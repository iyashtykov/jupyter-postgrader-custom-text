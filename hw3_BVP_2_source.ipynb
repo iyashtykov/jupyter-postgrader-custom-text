{
 "cells": [
  {
   "cell_type": "code",
   "execution_count": 12,
   "metadata": {
    "nbgrader": {
     "grade": false,
     "locked": false,
     "solution": false
    }
   },
   "outputs": [],
   "source": [
    "%matplotlib inline\n",
    "%precision 8\n",
    "from __future__ import print_function\n",
    "import numpy\n",
    "import matplotlib.pyplot as plt"
   ]
  },
  {
   "cell_type": "markdown",
   "metadata": {
    "nbgrader": {
     "grade": false,
     "grade_id": "h1",
     "locked": true,
     "solution": false
    }
   },
   "source": [
    "Before you turn this problem in, make sure everything runs as expected. First, restart the kernel (in the menubar, select Kernel $\\rightarrow$ Restart) and then run all cells (in the menubar, select Cell $\\rightarrow$ Run All).\n",
    "\n",
    "Make sure you fill in any place that says YOUR CODE HERE or \"YOUR ANSWER HERE\", as well as your name and collaborators below:"
   ]
  },
  {
   "cell_type": "markdown",
   "metadata": {
    "nbgrader": {
     "grade": false,
     "grade_id": "h2",
     "locked": true,
     "solution": false
    }
   },
   "source": [
    "# HW 3: BVP Problems II"
   ]
  },
  {
   "cell_type": "markdown",
   "metadata": {
    "nbgrader": {
     "grade": false,
     "grade_id": "Q1",
     "locked": true,
     "solution": false
    }
   },
   "source": [
    "## Question 1\n",
    "\n",
    "Consider the two-dimensional Poisson problem defined as\n",
    "$$\n",
    "    \\nabla^2 u = f(x,y) ~~~~ \\Omega = [0, 1] \\times [0, 1]\n",
    "$$\n",
    "with Dirichlet boundary conditions $u(x,y)|_{\\partial \\Omega} = 0$.\n",
    "\n",
    "Note that the notation $\\partial \\Omega$ often refers to the boundary of $\\Omega$ and $u(x,y)|_{\\partial \\Omega}$ the solution evaluted at the boundary."
   ]
  },
  {
   "cell_type": "markdown",
   "metadata": {
    "nbgrader": {
     "grade": false,
     "grade_id": "Q1-a",
     "locked": true,
     "solution": false
    }
   },
   "source": [
    "**(a)** [5] If we wanted to consider solutions of the form\n",
    "$$\n",
    "    u(x,y) = (y^3 - y) (\\cos(2 \\pi x) - 1)\n",
    "$$\n",
    "what should we require $f(x,y)$ to be?  Is this consistent with the boundary conditions?"
   ]
  },
  {
   "cell_type": "markdown",
   "metadata": {
    "nbgrader": {
     "grade": true,
     "grade_id": "A1-a",
     "locked": false,
     "points": 5,
     "solution": true
    }
   },
   "source": [
    "The derivatives we need are\n",
    "$$\n",
    "    u_{xx} = -4 \\pi^2 (y^3 - y) \\cos(2 \\pi x)\n",
    "$$\n",
    "and\n",
    "$$\n",
    "    u_{yy} = 6 y (\\cos(2 \\pi x) - 1)\n",
    "$$\n",
    "leading us to the function\n",
    "$$\n",
    "    f(x,y) = - 4 \\pi^2 (y^3 - y) \\cos(2\\pi x) + 6 y (\\cos(2\\pi x) - 1)\n",
    "$$\n",
    "\n",
    "Since assumed solution $u(x,y) = 0$ along the boundaries specified are zero these are consistent with the boundary conditions."
   ]
  },
  {
   "cell_type": "markdown",
   "metadata": {
    "nbgrader": {
     "grade": false,
     "grade_id": "Q1-b",
     "locked": true,
     "solution": false
    }
   },
   "source": [
    "**(b)** [10] Implement a finite difference method for the problem above with grid spacing $\\Delta x = \\Delta y$ using a 9-point Laplacian."
   ]
  },
  {
   "cell_type": "code",
   "execution_count": 13,
   "metadata": {
    "nbgrader": {
     "grade": false,
     "grade_id": "A1-b",
     "locked": false,
     "solution": true
    }
   },
   "outputs": [],
   "source": [
    "# Suggested modules to use to construct matrix A\n",
    "# You do not have to use these, they just may be helpful\n",
    "import scipy.sparse as sparse\n",
    "import scipy.sparse.linalg as linalg\n",
    "\n",
    "def solve_9point(m, f):\n",
    "    ### BEGIN SOLUTION\n",
    "    x = numpy.linspace(0, 1.0, m + 2)\n",
    "    y = numpy.linspace(0, 1.0, m + 2)\n",
    "    delta_x = 1.0 / (m + 1)\n",
    "\n",
    "    # Construct A\n",
    "    e = numpy.ones(m)\n",
    "    T = sparse.spdiags([4.0 * e, -20.0 * e, 4.0 * e], [-1, 0, 1], m, m)\n",
    "    I = sparse.eye(m)\n",
    "    S = sparse.spdiags([e, e], [-1, 1], m, m)\n",
    "    OI = sparse.spdiags([e, 4.0 * e, e], [-1, 0, 1], m, m)\n",
    "    A = (sparse.kron(I, T) + sparse.kron(S, OI)).tocsr()\n",
    "    A /= 6.0 * delta_x**2\n",
    "    \n",
    "    # Right-hand-side\n",
    "    X, Y = numpy.meshgrid(x[1:-1], y[1:-1])\n",
    "    b = f(X, Y).reshape(m**2, order='F')\n",
    "\n",
    "    # Solve\n",
    "    U = numpy.zeros((m+2, m+2))\n",
    "    U[1:-1, 1:-1] = linalg.spsolve(A, b).reshape((m, m), order='F')\n",
    "\n",
    "    ### END SOLUTION\n",
    "    return x, y, U"
   ]
  },
  {
   "cell_type": "code",
   "execution_count": 14,
   "metadata": {
    "nbgrader": {
     "grade": true,
     "grade_id": "T1-b",
     "locked": true,
     "points": 10,
     "solution": false
    }
   },
   "outputs": [
    {
     "name": "stdout",
     "output_type": "stream",
     "text": [
      "0.000265431325732\n",
      "Success!\n"
     ]
    }
   ],
   "source": [
    "f = lambda x, y: -(20.0 * y**3 + 9.0 * numpy.pi**2 * (y - y**5)) * numpy.sin(3.0 * numpy.pi * x)\n",
    "u_true = lambda x, y: (y - y**5) * numpy.sin(3.0 * numpy.pi * x)\n",
    "\n",
    "x, y, U = solve_9point(100, f)\n",
    "X, Y = numpy.meshgrid(x, y)\n",
    "error = numpy.linalg.norm((x[1] - x[0]) * (u_true(X, Y) - U), ord=1)\n",
    "print(error)\n",
    "assert error < 1e-3\n",
    "### THIS IS SPARTA!\n",
    "print(\"Success!\")\n",
    "### UPS... THIS IS NOT SPARTA"
   ]
  },
  {
   "cell_type": "markdown",
   "metadata": {
    "nbgrader": {
     "grade": false,
     "grade_id": "Q1-c",
     "locked": true,
     "solution": false
    }
   },
   "source": [
    "**(c)** [5] Show that the method is second-order accurate by preforming a convergence study (i.e. plot the error vs. $\\Delta x$ and compare this to the slopes for first and second order accurate methods)."
   ]
  },
  {
   "cell_type": "code",
   "execution_count": 15,
   "metadata": {
    "nbgrader": {
     "grade": true,
     "grade_id": "A1-c",
     "locked": false,
     "points": 5,
     "solution": true
    }
   },
   "outputs": [
    {
     "data": {
      "image/png": "[encoded data removed]",
      "text/plain": [
       "<matplotlib.figure.Figure at 0x7fdf87a82e48>"
      ]
     },
     "metadata": {},
     "output_type": "display_data"
    }
   ],
   "source": [
    "### BEGIN SOLUTION\n",
    "# f = lambda x, y: -(20.0 * y**3 + 9.0 * numpy.pi**2 * (y - y**5)) * numpy.sin(3.0 * numpy.pi * x)\n",
    "# u_true = lambda x, y: (y - y**5) * numpy.sin(3.0 * numpy.pi * x)\n",
    "u_true = lambda x, y: (y**3 - y) * (numpy.cos(2.0 * numpy.pi * x) - 1.0)\n",
    "f = lambda x, y: -4.0 * numpy.pi**2 * (y**3 - y) * numpy.cos(2.0 * numpy.pi * x) + 6.0 * y * (numpy.cos(2.0 * numpy.pi * x) - 1.0)\n",
    "\n",
    "index   = numpy.asarray([2**k for k in numpy.arange(2,7)])\n",
    "delta_x = numpy.zeros(len(index))\n",
    "error   = numpy.zeros(len(index))\n",
    "\n",
    "fig = plt.figure(1)\n",
    "\n",
    "for k,m in enumerate(index):\n",
    "    x, y, U    = solve_9point(m,f)\n",
    "    X, Y       = numpy.meshgrid(x, y)\n",
    "    delta_x[k] = x[1]-x[0]\n",
    "    error[k]   = numpy.linalg.norm(delta_x[k] * (u_true(X,Y) - U), ord=1)\n",
    "    \n",
    "plt.loglog(delta_x,error,'ko')\n",
    "plt.draw()\n",
    "\n",
    "order_C = lambda delta_x, error, order: numpy.exp(numpy.log(error) - order * numpy.log(delta_x))\n",
    "plt.loglog(delta_x, order_C(delta_x[0], error[0], 1.0) * delta_x**1.0, 'r--', label=\"1st Order\")\n",
    "plt.loglog(delta_x, order_C(delta_x[0], error[0], 2.0) * delta_x**2.0, 'b--', label=\"2nd Order\")\n",
    "plt.legend()\n",
    "\n",
    "plt.title('Convergence of Discrete Poisson Problem')\n",
    "plt.xlabel('resolution')\n",
    "plt.ylabel('numerical $L_2$error')\n",
    "plt.show()\n",
    "### END SOLUTION"
   ]
  },
  {
   "cell_type": "markdown",
   "metadata": {
    "nbgrader": {
     "grade": false,
     "grade_id": "Q1-d",
     "locked": true,
     "solution": false
    }
   },
   "source": [
    "**(d)** [15] Show that the 9-point Laplacian can be written as a 5-point Laplacian **plus** a finite difference approximation of $\\frac{1}{6}h^2 u_{xxyy} + \\mathcal O(h^4)$."
   ]
  },
  {
   "cell_type": "markdown",
   "metadata": {
    "nbgrader": {
     "grade": true,
     "grade_id": "A1-d",
     "locked": false,
     "points": 15,
     "solution": true
    }
   },
   "source": [
    "For the 9-point Laplacian we consider the Taylor expansions:  \n",
    "$$\\begin{aligned}\n",
    "    u(x\\pm \\Delta x, y\\pm \\Delta x) &= u(x,y) \\pm \\Delta x ( u_x + u_y ) + \\frac{\\Delta x^2}{2} \\left(u_{xx}+2u_{xy}+u_{yy} \\right) + \\mathcal O(\\Delta x^3)\\\\\n",
    "    u(x\\mp \\Delta x, y\\pm \\Delta x) &= u(x,y) \\mp \\Delta x ( u_x + u_y ) + \\frac{\\Delta x^2}{2} \\left(u_{xx}-2u_{xy}+u_{yy}\\right) + \\mathcal O(\\Delta x^3)\\\\\n",
    "    u(x\\pm \\Delta x, y ) &=  u(x,y) \\pm \\Delta x u_x + \\frac{\\Delta x^2}{2} u_{xx} + \\mathcal O(\\Delta x^3)\\\\\n",
    "    u(x, y\\pm \\Delta x ) &=  u(x,y) \\pm \\Delta x u_y + \\frac{\\Delta x^2}{2} u_{yy} + \\mathcal O(\\Delta x^3)\n",
    "\\end{aligned}$$\n",
    "\n",
    "We take a weighted sum of these equations of the form _once each of the first four and four times each of the last four_.\n",
    "This adds up to:\n",
    "\n",
    "$$\n",
    "  \\frac{1}{6\\Delta x^2} \\left( u(x + \\Delta x, y + \\Delta x) +  u(x - \\Delta x, y + \\Delta x) +  4u(x + \\Delta x, y) +  4u(x, y + \\Delta x) +  \\\n",
    "   u(x - \\Delta x, y - \\Delta x) +  u(x + \\Delta x, y - \\Delta x) +  4u(x - \\Delta x, y) +  4u(x, y - \\Delta x) -  \\\n",
    "   20 u(x,y)\\right)  = \\left(u_{xx}+u_{yy} \\right) + \\mathcal O(\\Delta x^3)\n",
    "$$\n",
    "\n",
    "So we define the 9-point Laplace as\n",
    "$$\n",
    "    \\nabla_9^2 = \\frac{1}{6\\Delta x^2} \\left( u(x + \\Delta x, y + \\Delta x) + u(x - \\Delta x, y + \\Delta x) +  4u(x + \\Delta x, y) + 4 u(x, y + \\Delta x) +  \\\n",
    "   u(x - \\Delta x, y - \\Delta x) +  u(x + \\Delta x, y - \\Delta x) + 4 u(x - \\Delta x, y) + 4 u(x, y - \\Delta x) -  \\\n",
    "   20 u(x,y)\\right) \n",
    "$$\n",
    "\n",
    "\n",
    "For the truncation error, we consider the Taylor expansions:\n",
    "$$\\begin{aligned}\n",
    "   u(x\\pm \\Delta x, y\\pm \\Delta x) &= u(x,y) \\pm \\Delta x ( u_x + u_y ) + \\\n",
    "   \\frac{\\Delta x^2}{2} \\left(u_{xx}+2u_{xy}+u_{yy} \\right) \\pm \\\n",
    "   \\frac{\\Delta x^3}{6} \\left( u_{xxx} + 3 u_{xxy} + 3 u_{xyy} + u_{yyy} \\right) + \\\\\n",
    "   &\\frac{\\Delta x^4}{24} \\left( u_{xxxx} + 4 u_{xxxy} + 6 u_{xxyy} + 4 u_{xyyy} + u_{yyyy} \\right) + \\\n",
    "   \\mathcal O(\\Delta x^5)\\\\\n",
    "    u(x\\mp \\Delta x, y\\pm \\Delta x) &= u(x,y) \\mp \\Delta x ( u_x + u_y ) + \\\n",
    "    \\frac{\\Delta x^2}{2} \\left(u_{xx}-2u_{xy}+u_{yy}\\right) + \\\n",
    "    \\frac{\\Delta x^3}{6} \\left( \\mp u_{xxx} \\pm 3 u_{xxy} \\mp 3 u_{xyy} \\pm u_{yyy} \\right) + \\\\\n",
    "   &\\frac{\\Delta x^4}{24} \\left( u_{xxxx} - 4 u_{xxxy} + 6 u_{xxyy} - 4 u_{xyyy} + u_{yyyy} \\right) + \\\n",
    "   \\mathcal O(\\Delta x^5)\\\\\n",
    "    u(x\\pm \\Delta x, y ) &=  u(x,y) \\pm \\Delta x u_x + \\frac{\\Delta x^2}{2} u_{xx} + \\\n",
    "     \\pm \\frac{\\Delta x^3}{6}u_{xxx} + \\frac{\\Delta x^4}{24} u_{xxxx} +\\mathcal O(\\Delta x^5)\\\\\n",
    "    u(x, y\\pm \\Delta x ) &=  u(x,y) \\pm \\Delta x u_y + \\frac{\\Delta x^2}{2} u_{yy} + \\\n",
    "     \\pm \\frac{\\Delta x^3}{6} u_{yyy} + \\frac{\\Delta x^4}{24} u_{yyyy} + \\mathcal O(\\Delta x^5)\n",
    "\\end{aligned}$$  \n",
    "\n",
    "Plugging those in to the formula for the 9-point Laplacian gives\n",
    "$$\\begin{aligned}\n",
    "    \\nabla_9^2 &= \\Delta u + \\Delta x^2 \\frac{1}{6} \\left( \\frac{12}{24} u_{xxxx}+ \\frac{24}{24} u_{xxyy} + \\frac{12}{24} u_{yyyy}\\right) + \\mathcal O(\\Delta x^5)\\\\\n",
    "               &= \\Delta u + \\Delta x^2 \\frac{1}{12} \\left( u_{xxxx}+ 2 u_{xxyy} + u_{yyyy}\\right) + \\mathcal O(\\Delta x^5),\n",
    "\\end{aligned}$$\n",
    "\n",
    "\n",
    "\n",
    "so that the truncation error is\n",
    "\n",
    "$$\n",
    "    \\tau(\\nabla_9^2) = \\frac{\\Delta x^2}{12} \\left( u_{xxxx}+ 2 u_{xxyy} + u_{yyyy}\\right) + \\mathcal O(\\Delta x^5)\n",
    "$$\n",
    "\n",
    "So, the error is still of order $\\mathcal O(\\Delta x^2)$.\n",
    "\n",
    "Let us assume that $\\Delta x = \\Delta y$. The 9-point Laplacian is given by \n",
    "\n",
    "$$\n",
    "    \\nabla_9^2 = \\frac{1}{6\\Delta x^2} \\left( u(x + \\Delta x, y + \\Delta x) + u(x - \\Delta x, y + \\Delta x) +  4u(x + \\Delta x, y) + 4 u(x, y + \\Delta x) +  \\\n",
    "   u(x - \\Delta x, y - \\Delta x) +  u(x + \\Delta x, y - \\Delta x) + 4 u(x - \\Delta x, y) + 4 u(x, y - \\Delta x) -  \\\n",
    "   20 u(x,y)\\right) \n",
    "$$\n",
    "\n",
    "From the lecture we know that the truncation error for the 5-point Laplacian is\n",
    "\n",
    "$$\n",
    "    \\tau(\\nabla_5^2) = \\frac{\\Delta x^2}{12} \\left( u_{xxxx} + u_{yyyy} \\right) + \\mathcal O(\\Delta x^4)\n",
    "$$\n",
    "\n",
    "Subtracting this result from the answer above, we obtain\n",
    "\n",
    "$$\n",
    "    \\tau(\\nabla_9^2 - \\nabla_5^2) = \\Delta x^2 \\frac{1}{6} \\left( u_{xxyy} \\right) + \\mathcal O(\\Delta x^4)\n",
    "$$"
   ]
  },
  {
   "cell_type": "markdown",
   "metadata": {
    "nbgrader": {
     "grade": false,
     "grade_id": "Q1-e",
     "locked": true,
     "solution": false
    }
   },
   "source": [
    "**(e)** [10] Modify your function to use the trick introduced in class that will cause the 9-point Laplacian stencil to become 4th order accurate.  Show that this is true via a convergence study."
   ]
  },
  {
   "cell_type": "code",
   "execution_count": 16,
   "metadata": {
    "nbgrader": {
     "grade": true,
     "grade_id": "A1-e",
     "locked": false,
     "points": 10,
     "solution": true
    }
   },
   "outputs": [
    {
     "data": {
      "image/png": "[encoded data removed]",
      "text/plain": [
       "<matplotlib.figure.Figure at 0x7fdf86ad29b0>"
      ]
     },
     "metadata": {},
     "output_type": "display_data"
    }
   ],
   "source": [
    "### BEGIN SOLUTION\n",
    "import scipy.sparse as sparse\n",
    "import scipy.sparse.linalg as linalg\n",
    "\n",
    "def solve_9point_plus(m, f, laplace_f):\n",
    "    x = numpy.linspace(0, 1.0, m + 2)\n",
    "    y = numpy.linspace(0, 1.0, m + 2)\n",
    "    delta_x = 1.0 / (m + 1)\n",
    "\n",
    "    # Construct A\n",
    "    e = numpy.ones(m)\n",
    "    T = sparse.spdiags([4.0 * e, -20.0 * e, 4.0 * e], [-1, 0, 1], m, m)\n",
    "    I = sparse.eye(m)\n",
    "    S = sparse.spdiags([e, e], [-1, 1], m, m)\n",
    "    OI = sparse.spdiags([e, 4.0 * e, e], [-1, 0, 1], m, m)\n",
    "    A = (sparse.kron(I, T) + sparse.kron(S, OI)).tocsr()\n",
    "    A /= 6.0 * delta_x**2\n",
    "    \n",
    "    # Right-hand-side\n",
    "    X, Y = numpy.meshgrid(x[1:-1], y[1:-1])\n",
    "    b = (f(X, Y) + delta_x**2 / 12.0 * laplace_f(X, Y)).reshape(m**2, order='F')\n",
    "\n",
    "    # Solve\n",
    "    U = numpy.zeros((m+2, m+2))\n",
    "    U[1:-1, 1:-1] = linalg.spsolve(A, b).reshape((m, m), order='F')\n",
    "\n",
    "    return x, y, U\n",
    "\n",
    "\n",
    "u_true = lambda x, y: (y**3 - y) * (numpy.cos(2.0 * numpy.pi * x) - 1.0)\n",
    "f = lambda x, y: -4.0 * numpy.pi**2 * (y**3 - y) * numpy.cos(2.0 * numpy.pi * x) + 6.0 * y * (numpy.cos(2.0 * numpy.pi * x) - 1.0)\n",
    "laplace_f = lambda x, y: 16.0 * numpy.pi**4 * (y**3 - y) * numpy.cos(2.0 * numpy.pi * x) - 48.0 * numpy.pi**2 * y * numpy.cos(2.0 * numpy.pi * x)\n",
    "\n",
    "index   = numpy.asarray([2**k for k in numpy.arange(2,7)])\n",
    "delta_x = numpy.zeros(len(index))\n",
    "error   = numpy.zeros(len(index))\n",
    "\n",
    "fig = plt.figure(1)\n",
    "\n",
    "for k,m in enumerate(index):\n",
    "    x, y, U    = solve_9point_plus(m, f, laplace_f)\n",
    "    X, Y       = numpy.meshgrid(x, y)\n",
    "    delta_x[k] = x[1]-x[0]\n",
    "    error[k]   = numpy.linalg.norm(delta_x[k] * (u_true(X,Y) - U), ord=1)\n",
    "    \n",
    "plt.loglog(delta_x,error,'ko')\n",
    "plt.draw()\n",
    "\n",
    "order_C = lambda delta_x, error, order: numpy.exp(numpy.log(error) - order * numpy.log(delta_x))\n",
    "plt.loglog(delta_x, order_C(delta_x[0], error[0], 2.0) * delta_x**2.0, 'b--', label=\"2nd Order\")\n",
    "plt.loglog(delta_x, order_C(delta_x[0], error[0], 4.0) * delta_x**4.0, 'g--', label=\"4th Order\")\n",
    "plt.legend()\n",
    "\n",
    "plt.title('Convergence of Discrete Poisson Problem')\n",
    "plt.xlabel('resolution')\n",
    "plt.ylabel('numerical $L_2$error')\n",
    "plt.show()\n",
    "### END SOLUTION"
   ]
  },
  {
   "cell_type": "markdown",
   "metadata": {
    "nbgrader": {
     "grade": false,
     "grade_id": "Q2",
     "locked": true,
     "solution": false
    }
   },
   "source": [
    "## Question 2\n",
    "\n",
    "Let us consider some modifications to the Gauss-Seidel method we discussed and when one version might be better than the other."
   ]
  },
  {
   "cell_type": "markdown",
   "metadata": {
    "nbgrader": {
     "grade": false,
     "grade_id": "Q2-a",
     "locked": true,
     "solution": false
    }
   },
   "source": [
    "**(a)** [5] The Gauss-Seidel method for the discretization of $u''(x) = f(x)$\n",
    "takes the form \n",
    "$$\n",
    "    U_i^{(k+1)} = \\frac{1}{2} (U_{i+1}^{(k)} + U_{i-1}^{(k+1)}) - f(x_i) \\frac{\\Delta x^2}{2}\n",
    "$$\n",
    "if we assume we are marching forwards across the grid,\n",
    "for $i=1,~2,~\\ldots,~m$.  We can also define a *backwards Gauss-Seidel\n",
    "method* by setting\n",
    "$$\n",
    "    U_i^{(k+1)} = \\frac{1}{2} (U_{i+1}^{(k+1)} + U_{i-1}^{(k)}) - f(x_i) \\frac{\\Delta x^2}{2}\n",
    "$$\n",
    "Show that this is a matrix splitting method of the type described in the lecture notes and what the splitting is."
   ]
  },
  {
   "cell_type": "markdown",
   "metadata": {
    "nbgrader": {
     "grade": true,
     "grade_id": "A2-a",
     "locked": false,
     "points": 5,
     "solution": true
    }
   },
   "source": [
    "We just need to simply show that we can write the iterative scheme with appropriate $M$ and $N$.  Using the terminology in the lecture notes we have $M = D-U$ and $N=L$."
   ]
  },
  {
   "cell_type": "markdown",
   "metadata": {
    "nbgrader": {
     "grade": false,
     "grade_id": "Q2-b",
     "locked": true,
     "solution": false
    }
   },
   "source": [
    "**(b)** [5] Implement the backwards Gauss-Seidel method and show that the convergence is at the same rate as the forward version (do this computationally, you do not need to do this analytically).  Use the same expected iteration count as with the forwards method."
   ]
  },
  {
   "cell_type": "code",
   "execution_count": 17,
   "metadata": {
    "nbgrader": {
     "grade": false,
     "grade_id": "A2-b",
     "locked": false,
     "solution": true
    }
   },
   "outputs": [],
   "source": [
    "def solve_BGS(a, b, alpha, beta, m, f):\n",
    "    ### BEGIN SOLUTION\n",
    "    \n",
    "    # Descretization\n",
    "    x_bc = numpy.linspace(a, b, m + 2)\n",
    "    x = x_bc[1:-1]\n",
    "    delta_x = (b - a) / (m + 1)\n",
    "\n",
    "    # Expected iterations needed\n",
    "    iterations_GS = int(2.0 * numpy.log(delta_x) / numpy.log(1.0 - numpy.pi**2 * delta_x**2))\n",
    "\n",
    "    # Solve system\n",
    "    # Initial guess for iterations\n",
    "    U = numpy.zeros(m + 2)\n",
    "    U[0] = alpha\n",
    "    U[-1] = beta\n",
    "    success = False\n",
    "    for k in range(iterations_GS):\n",
    "        for i in range(m, 0, -1):\n",
    "            U[i] = 0.5 * (U[i+1] + U[i-1]) - f(x_bc[i]) * delta_x**2 / 2.0\n",
    "    ### END SOLUTION\n",
    "\n",
    "    return x_bc, U"
   ]
  },
  {
   "cell_type": "code",
   "execution_count": null,
   "metadata": {
    "nbgrader": {
     "grade": true,
     "grade_id": "T2-b",
     "locked": true,
     "points": 5,
     "solution": false
    }
   },
   "outputs": [],
   "source": [
    "# Problem setup\n",
    "a = 0.0\n",
    "b = 1.0\n",
    "alpha = 0.0\n",
    "beta = 3.0\n",
    "f = lambda x: numpy.exp(x)\n",
    "u_true = lambda x: (4.0 - numpy.exp(1.0)) * x - 1.0 + numpy.exp(x)\n",
    "\n",
    "x, U = solve_BGS(a, b, alpha, beta, 150, f)\n",
    "error = numpy.linalg.norm((x[1] - x[0]) * (u_true(x) - U), ord=1)\n",
    "print(error)\n",
    "assert(error < 1e-4)\n",
    "### BEGIN HIDDEN TESTS\n",
    "print(\"Success!\")\n",
    "### END HIDDEN TESTS"
   ]
  },
  {
   "cell_type": "markdown",
   "metadata": {
    "nbgrader": {
     "grade": false,
     "grade_id": "Q2-c",
     "locked": true,
     "solution": false
    }
   },
   "source": [
    "**(c)** [10] Modify the code so that it solves the steady-state problem\n",
    "$$\n",
    "    \\epsilon u''(x) - u'(x) = f(x)\n",
    "$$\n",
    "we had before with the same boundaries and $f(x)$.  This time however use the one-sided approximation to the first derivative\n",
    "$$\n",
    "    \\frac{U_i - U_{i-1}}{\\Delta x}.\n",
    "$$\n",
    "Test both forward and backward Gauss-Seidel for the resulting linear system.  Use the value $\\epsilon = 0.01$, $m = 100$, and a maximum number of iterations of $250$.  Plot the convergence of both approaches."
   ]
  },
  {
   "cell_type": "code",
   "execution_count": null,
   "metadata": {
    "nbgrader": {
     "grade": true,
     "grade_id": "A2-c1",
     "locked": false,
     "points": 10,
     "solution": true
    }
   },
   "outputs": [],
   "source": [
    "a = 0.0\n",
    "b = 1.0\n",
    "alpha = 1.0\n",
    "beta = 3.0\n",
    "epsilon = 0.01\n",
    "u_true = lambda x: alpha + x + (beta - alpha - 1.0) * (numpy.exp(x / epsilon) - 1.0) / (numpy.exp(1.0 / epsilon) - 1.0)\n",
    "\n",
    "### BEGIN SOLUTION\n",
    "# Descretization\n",
    "m = 100\n",
    "x_bc = numpy.linspace(a, b, m + 2)\n",
    "x = x_bc[1:-1]\n",
    "delta_x = (b - a) / (m + 1)\n",
    "\n",
    "# max_iterations = int(2.0 * numpy.log(delta_x) / numpy.log(1.0 - numpy.pi**2 * delta_x**2))\n",
    "max_iterations = 250\n",
    "convergence = numpy.zeros((2, max_iterations))\n",
    "\n",
    "# Forward GS\n",
    "U_f = numpy.zeros(m + 2)\n",
    "U_f[0] = alpha\n",
    "U_f[-1] = beta\n",
    "for k in range(max_iterations):\n",
    "    for i in range(1, m + 1):\n",
    "        U_f[i] = (epsilon * U_f[i+1] + (epsilon + delta_x) * U_f[i-1] + delta_x**2) / (2.0 * epsilon + delta_x)\n",
    "    convergence[0, k] = numpy.linalg.norm(delta_x * (u_true(x_bc) - U_f), ord=1)\n",
    "\n",
    "# Backward GS\n",
    "U_b = numpy.zeros(m + 2)\n",
    "U_b[0] = alpha\n",
    "U_b[-1] = beta\n",
    "for k in range(max_iterations):\n",
    "    for i in range(m, 0, -1):\n",
    "        U_b[i] = (epsilon * U_b[i+1] + (epsilon + delta_x) * U_b[i-1] + delta_x**2) / (2.0 * epsilon + delta_x)\n",
    "    convergence[1, k] = numpy.linalg.norm(delta_x * (u_true(x_bc) - U_b), ord=1)    \n",
    "    \n",
    "fig = plt.figure()\n",
    "axes = fig.add_subplot(1, 1, 1)\n",
    "axes.plot(x_bc, U_f, 'r+', label=\"Forward GS\")\n",
    "axes.plot(x_bc, U_b, 'bx', label=\"Backward GS\")\n",
    "axes.plot(x_bc, u_true(x_bc), 'k-', label=\"True Solution\")\n",
    "axes.set_title(\"Solutions\")\n",
    "axes.set_xlabel(\"x\")\n",
    "axes.set_ylabel(\"$u(x)$\")\n",
    "axes.legend(loc=2)\n",
    "\n",
    "fig = plt.figure()\n",
    "axes = fig.add_subplot(1, 1, 1)\n",
    "axes.semilogy(convergence[0, :], 'r', label=\"Forward\")\n",
    "axes.semilogy(convergence[1, :], 'b', label=\"Backward\")\n",
    "axes.set_title(\"Convergence Rates\")\n",
    "axes.set_xlabel(\"k\")\n",
    "axes.set_ylabel(\"$ ||\\Delta x(u - U)||_1$\")\n",
    "axes.legend(loc=1)\n",
    "\n",
    "plt.show()\n",
    "### END SOLUTION"
   ]
  },
  {
   "cell_type": "markdown",
   "metadata": {
    "nbgrader": {
     "grade": false,
     "grade_id": "Q2-d",
     "locked": true,
     "solution": false
    }
   },
   "source": [
    "**(d)** [5] Explain intuitively why sweeping in one direction works so much better than\n",
    "in the other.\n",
    "\n",
    "**Hint**: Note that this equation is the steady equation for an advection-diffusion PDE \n",
    "$$\n",
    "    u_t(x,t) + u_x(x,t) = \\epsilon u_{xx}(x,t) - f(x).\n",
    "$$  \n",
    "You might consider how the methods behave in the case $\\epsilon = 0$."
   ]
  },
  {
   "cell_type": "markdown",
   "metadata": {
    "nbgrader": {
     "grade": true,
     "grade_id": "A2-d",
     "locked": false,
     "points": 5,
     "solution": true
    }
   },
   "source": [
    "There should be marked difference between the forward and backward sweeps due to the one-sided approximation.  Clearly the non-updated sweep in the backward direction is impacting the convergence.  This has more to do with the upwinding of the advective term than anything else.  If $\\epsilon$ is small than this acts more like a hyperbolic PDE in which we would expect there to be more of instability one direction.  Given that we have not covered this, the above explanation is fine, the sweep direction clearly has a preference when using one-sided differences due to the dependence."
   ]
  },
  {
   "cell_type": "markdown",
   "metadata": {
    "nbgrader": {
     "grade": false,
     "grade_id": "Q3",
     "locked": true,
     "solution": false
    }
   },
   "source": [
    "## Question 3 - Poisson on a Rectangle"
   ]
  },
  {
   "cell_type": "markdown",
   "metadata": {
    "nbgrader": {
     "grade": false,
     "grade_id": "Q3-a",
     "locked": true,
     "solution": false
    }
   },
   "source": [
    "**(a)** [15] Write a function that solves the Poisson problem \n",
    "$$\n",
    "    \\nabla^2 u = \\frac{5}{4} e^{x + y/2}\n",
    "$$\n",
    "on $\\Omega = [0, 1] \\times [0, 2]$ using a five point stencil.  Use the true solution of the problem\n",
    "$$\n",
    "    u(x, y) = e^{x + y / 2}\n",
    "$$\n",
    "to set the boundary conditions.  Allow for $\\Delta x$ and $\\Delta y$ to be non-uniform."
   ]
  },
  {
   "cell_type": "code",
   "execution_count": null,
   "metadata": {
    "nbgrader": {
     "grade": false,
     "grade_id": "A3-a",
     "locked": false,
     "solution": true
    }
   },
   "outputs": [],
   "source": [
    "import scipy.sparse as sparse\n",
    "import scipy.sparse.linalg as linalg\n",
    "\n",
    "def solve_poisson(X, Y, f):\n",
    "    # BEGIN SOLUTION\n",
    "    \n",
    "    # Grid parameters\n",
    "    delta_x = X[1, 0] - X[0, 0]\n",
    "    delta_y = Y[0, 1] - Y[0, 0]\n",
    "    \n",
    "    # Construct A\n",
    "    m = X.shape[0] - 2\n",
    "    n = Y.shape[1] - 2\n",
    "    \n",
    "    e = numpy.ones(m)\n",
    "    en = numpy.ones(n)\n",
    "    \n",
    "    T = sparse.spdiags([e / delta_x**2, -2.0 * e / delta_x**2 - 2.0 * e / delta_y**2, e / delta_x**2], [-1, 0, 1], m, m)\n",
    "    S = sparse.spdiags([e / delta_y**2], [0], m, m)\n",
    "    \n",
    "    I = sparse.eye(n)\n",
    "    I2 = sparse.spdiags([en], [1], n, n)\n",
    "    I3 = sparse.spdiags([en], [-1], n, n)\n",
    "    \n",
    "    A = sparse.kron(I, T) + sparse.kron(I2, S) + sparse.kron(I3, S)\n",
    "    \n",
    "    # Construct rhs\n",
    "    b = f(X[1:-1, 1:-1], Y[1:-1, 1:-1])\n",
    "\n",
    "    # Boundaries - Note that this looks weird due to the resulting ordering\n",
    "    b[0, :] -= numpy.exp(X[0, 1:-1] + Y[0, 1:-1] / 2.0) / delta_x**2    \n",
    "    b[-1, :] -= numpy.exp(X[-1, 1:-1] + Y[-1, 1:-1] / 2.0) / delta_x**2\n",
    "    b[:, 0] -= numpy.exp(X[1:-1, 0] + Y[1:-1, 0] / 2.0) / delta_y**2\n",
    "    b[:, -1] -= numpy.exp(X[1:-1, -1] + Y[1:-1, -1] / 2.0) / delta_y**2\n",
    "\n",
    "    U = numpy.exp(X + Y / 2.0)\n",
    "    U[1:-1, 1:-1] = linalg.spsolve(A, b.reshape(m*n, order='F')).reshape((m, n), order='F')\n",
    "    \n",
    "    # END SOLUTION\n",
    "    return U"
   ]
  },
  {
   "cell_type": "code",
   "execution_count": null,
   "metadata": {
    "nbgrader": {
     "grade": true,
     "grade_id": "T3-a",
     "locked": true,
     "points": 15,
     "solution": false
    }
   },
   "outputs": [],
   "source": [
    "# Grid including boundaries\n",
    "# Note that the x and y arrays include the boundary location\n",
    "m = 15\n",
    "n = 25\n",
    "delta_x = 1.0 / (m + 1)\n",
    "delta_y = 2.0 / (n + 1)\n",
    "x = numpy.linspace(0.0, 1.0, m + 2)\n",
    "y = numpy.linspace(0.0, 2.0, n + 2)\n",
    "X, Y = numpy.meshgrid(x, y)\n",
    "# Transpose these so that the coordinates match up to (i, j)\n",
    "X = X.transpose()\n",
    "Y = Y.transpose()\n",
    "\n",
    "f = lambda x, y: 1.25 * numpy.exp(x + y / 2.0)\n",
    "u_true = lambda x, y: numpy.exp(x + y / 2.0)\n",
    "U = solve_poisson(X, Y, f)\n",
    "assert numpy.linalg.norm(max(delta_x, delta_y) * (u_true(X, Y) - U), ord=1) < 1e-3\n",
    "### BEGIN HIDDEN TESTS\n",
    "print(\"Success!\")\n",
    "### END HIDDEN TESTS\n",
    "\n",
    "fig = plt.figure()\n",
    "fig.set_figwidth(fig.get_figwidth())\n",
    "axes = fig.add_subplot(1, 2, 1, aspect='equal')\n",
    "plot = axes.pcolor(X, Y, U, vmax=7.0, vmin=0.0, cmap=plt.get_cmap(\"Blues\"))\n",
    "fig.colorbar(plot, label=\"$U$\")\n",
    "axes.set_title(\"Computed Solution\")\n",
    "axes.set_xlabel(\"x\")\n",
    "axes.set_ylabel(\"y\")\n",
    "axes = fig.add_subplot(1, 2, 2, aspect='equal')\n",
    "plot = axes.pcolor(X, Y, u_true(X, Y), vmax=7.0, vmin=0.0, cmap=plt.get_cmap(\"Blues\"))\n",
    "fig.colorbar(plot, label=\"$u(x,t)$\")\n",
    "axes.set_title(\"True Solution\")\n",
    "axes.set_xlabel(\"x\")\n",
    "axes.set_ylabel(\"y\")\n",
    "\n",
    "plt.show()"
   ]
  },
  {
   "cell_type": "markdown",
   "metadata": {
    "nbgrader": {
     "grade": false,
     "grade_id": "Q3-b",
     "locked": true,
     "solution": false
    }
   },
   "source": [
    "**(b)** [15] Keeping $\\Delta x$ constant study the convergence behavior as $\\Delta y \\rightarrow 0$.  Do the same for $\\Delta x$.  Comment on what you observe."
   ]
  },
  {
   "cell_type": "code",
   "execution_count": null,
   "metadata": {
    "nbgrader": {
     "grade": true,
     "grade_id": "A3-b1",
     "locked": false,
     "points": 10,
     "solution": true
    }
   },
   "outputs": [],
   "source": [
    "### BEGIN SOLUTION\n",
    "f = lambda x, y: 1.25 * numpy.exp(x + y / 2.0)\n",
    "u_true = lambda x, y: numpy.exp(x + y / 2.0)\n",
    "\n",
    "# Perform x-sweep\n",
    "n = 64\n",
    "delta_y = 2.0 / (n + 1)\n",
    "x_norm = numpy.empty(5)\n",
    "for (i, m) in enumerate([2**k for k in range(4, 9)]):\n",
    "    delta_x = 1.0 / (m + 1)\n",
    "    x = numpy.linspace(0.0, 1.0, m + 2)\n",
    "    y = numpy.linspace(0.0, 2.0, n + 2)\n",
    "    X, Y = numpy.meshgrid(x, y)\n",
    "    X = X.transpose()\n",
    "    Y = Y.transpose()\n",
    "\n",
    "    U = solve_poisson(X, Y, f)\n",
    "    x_norm[i] = numpy.linalg.norm(max(delta_x, delta_y) * (u_true(X, Y) - U), ord=1)\n",
    "\n",
    "# Perform y-sweep\n",
    "m = 64\n",
    "delta_x = 1.0 / (m + 1)\n",
    "y_norm = numpy.empty(5)\n",
    "for (i, n) in enumerate([2**k for k in range(4, 9)]):\n",
    "    delta_y = 2.0 / (n + 1)\n",
    "    x = numpy.linspace(0.0, 1.0, m + 2)\n",
    "    y = numpy.linspace(0.0, 2.0, n + 2)\n",
    "    X, Y = numpy.meshgrid(x, y)\n",
    "    X = X.transpose()\n",
    "    Y = Y.transpose()\n",
    "\n",
    "    U = solve_poisson(X, Y, f)\n",
    "    y_norm[i] = numpy.linalg.norm(max(delta_x, delta_y) * (u_true(X, Y) - U), ord=1)\n",
    "    \n",
    "# Plots\n",
    "fig = plt.figure()\n",
    "fig.set_figwidth(fig.get_figwidth() * 2)\n",
    "axes = fig.add_subplot(1, 2, 1)\n",
    "axes.semilogy([2**k for k in range(4, 9)], x_norm)\n",
    "axes.set_title(\"$\\Delta x$ Convergence\")\n",
    "axes.set_xlabel(\"m\")\n",
    "axes.set_ylabel(\"$\\ell_1$ grid norm\")\n",
    "\n",
    "axes = fig.add_subplot(1, 2, 2)\n",
    "axes.semilogy([2**k for k in range(4, 9)], y_norm)\n",
    "axes.set_title(\"$\\Delta y$ Convergence\")\n",
    "axes.set_xlabel(\"n\")\n",
    "axes.set_ylabel(\"$\\ell_1$ grid norm\")\n",
    "\n",
    "plt.show()\n",
    "\n",
    "### END SOLUTION"
   ]
  },
  {
   "cell_type": "markdown",
   "metadata": {
    "nbgrader": {
     "grade": true,
     "grade_id": "A3-b2",
     "locked": false,
     "points": 5,
     "solution": true
    }
   },
   "source": [
    "One should see that eventually the convergence does not extend past a certain point due to the limited accuracy in the other direction."
   ]
  }
 ],
 "metadata": {
  "celltoolbar": "Create Assignment",
  "kernelspec": {
   "display_name": "Python 3",
   "language": "python",
   "name": "python3"
  },
  "language_info": {
   "codemirror_mode": {
    "name": "ipython",
    "version": 3
   },
   "file_extension": ".py",
   "mimetype": "text/x-python",
   "name": "python",
   "nbconvert_exporter": "python",
   "pygments_lexer": "ipython3",
   "version": "3.6.9"
  },
  "latex_envs": {
   "bibliofile": "biblio.bib",
   "cite_by": "apalike",
   "current_citInitial": 1,
   "eqLabelWithNumbers": true,
   "eqNumInitial": 0
  }
 },
 "nbformat": 4,
 "nbformat_minor": 2
}
